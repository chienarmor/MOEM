{
 "cells": [
  {
   "cell_type": "code",
   "execution_count": 1,
   "id": "initial_id",
   "metadata": {
    "collapsed": true,
    "ExecuteTime": {
     "end_time": "2024-06-10T11:58:27.541197600Z",
     "start_time": "2024-06-10T11:58:27.523121100Z"
    }
   },
   "outputs": [],
   "source": [
    "import json\n",
    "\n",
    "file_path = \"output_json/aste_rest14_seed3407_order5.json\"\n",
    "all_preds = []\n",
    "all_labels = []\n",
    "preds_mt = []\n",
    "labels_mt = []\n",
    "preds_st = []\n",
    "labels_st = []\n",
    "preds_mw = []\n",
    "labels_mw = []\n",
    "preds_sw = []\n",
    "labels_sw = []\n",
    "with open(file_path, 'r', encoding='utf-8') as file:\n",
    "    json_data = json.load(file)\n",
    "    data = json_data['rest16']\n",
    "    for item in data:\n",
    "        all_labels.append(item['labels'])\n",
    "        all_preds.append(item['preds'])\n",
    "    for index, tuples in enumerate(all_labels):\n",
    "        if len(tuples) > 1:\n",
    "            labels_mt.append(tuples)\n",
    "            preds_mt.append(all_preds[index])\n",
    "        else:\n",
    "            labels_st.append(tuples)\n",
    "            preds_st.append(all_preds[index])\n",
    "    for index, tuples in enumerate(all_labels):\n",
    "        for tuple in tuples:\n",
    "            if len(tuple[0].split()) > 1 or len(tuple[1].split()) > 1:\n",
    "                labels_mw.append(tuples)\n",
    "                preds_mw.append(all_preds[index])\n",
    "            else:\n",
    "                labels_sw.append(tuples)\n",
    "                preds_sw.append(all_preds[index])"
   ]
  },
  {
   "cell_type": "code",
   "execution_count": 2,
   "outputs": [],
   "source": [
    "def compute_metrix(all_preds, all_labels):\n",
    "    n_preds, n_labels, n_common = 0, 0, 0\n",
    "    for pred, label in zip(all_preds, all_labels):\n",
    "        n_preds += len(pred)\n",
    "        n_labels += len(label)\n",
    "        label_dup = label.copy()\n",
    "        for p in pred:\n",
    "            if p in label_dup:\n",
    "                n_common += 1\n",
    "                label_dup.remove(p)\n",
    "    if n_preds == 0:\n",
    "        precision = 0\n",
    "    else:\n",
    "        precision = n_common / n_preds\n",
    "    recall = n_common / n_labels\n",
    "    f1_score = 2 * precision * recall / (precision + recall) if (precision + recall) > 0 else 0\n",
    "    return precision, recall, f1_score"
   ],
   "metadata": {
    "collapsed": false,
    "ExecuteTime": {
     "end_time": "2024-06-10T11:58:27.549665100Z",
     "start_time": "2024-06-10T11:58:27.543154800Z"
    }
   },
   "id": "6e3a2c966ef42ccc"
  },
  {
   "cell_type": "code",
   "execution_count": 3,
   "outputs": [
    {
     "name": "stdout",
     "output_type": "stream",
     "text": [
      "sw p: 0.8523573200992556, r: 0.738312735088662, f1: 0.7912467607255974\n",
      "mw p: 0.7467532467532467, r: 0.5409219190968956, f1: 0.6273867975995636\n",
      "st p: 0.6968325791855203, r: 0.7475728155339806, f1: 0.7213114754098361\n",
      "mt p: 0.8288159771754636, r: 0.7373096446700508, f1: 0.7803895231699127\n"
     ]
    }
   ],
   "source": [
    "precision, recall, f1_score = compute_metrix(preds_sw, labels_sw)\n",
    "print(f\"sw p: {precision}, r: {recall}, f1: {f1_score}\")\n",
    "precision, recall, f1_score = compute_metrix(preds_mw, labels_mw)\n",
    "print(f\"mw p: {precision}, r: {recall}, f1: {f1_score}\")\n",
    "precision, recall, f1_score = compute_metrix(preds_st, labels_st)\n",
    "print(f\"st p: {precision}, r: {recall}, f1: {f1_score}\")\n",
    "precision, recall, f1_score = compute_metrix(preds_mt, labels_mt)\n",
    "print(f\"mt p: {precision}, r: {recall}, f1: {f1_score}\")"
   ],
   "metadata": {
    "collapsed": false,
    "ExecuteTime": {
     "end_time": "2024-06-10T11:58:27.557228600Z",
     "start_time": "2024-06-10T11:58:27.547664600Z"
    }
   },
   "id": "6507c7f26d0ddede"
  },
  {
   "cell_type": "code",
   "execution_count": 6,
   "outputs": [
    {
     "name": "stdout",
     "output_type": "stream",
     "text": [
      "735 994\n"
     ]
    }
   ],
   "source": [
    "n_common = 0\n",
    "n_label = 0\n",
    "for tuples_l, tuples_p in zip(all_labels, all_preds):\n",
    "    for tuple_l in tuples_l:\n",
    "        n_label += 1\n",
    "        if tuple_l in tuples_p:\n",
    "            n_common += 1\n",
    "print(n_common, n_label)"
   ],
   "metadata": {
    "collapsed": false,
    "ExecuteTime": {
     "end_time": "2024-06-10T12:02:47.430313100Z",
     "start_time": "2024-06-10T12:02:47.419972700Z"
    }
   },
   "id": "dbb23f16df2bea64"
  },
  {
   "cell_type": "code",
   "execution_count": null,
   "outputs": [],
   "source": [],
   "metadata": {
    "collapsed": false
   },
   "id": "93680048db944312"
  }
 ],
 "metadata": {
  "kernelspec": {
   "display_name": "Python 3",
   "language": "python",
   "name": "python3"
  },
  "language_info": {
   "codemirror_mode": {
    "name": "ipython",
    "version": 2
   },
   "file_extension": ".py",
   "mimetype": "text/x-python",
   "name": "python",
   "nbconvert_exporter": "python",
   "pygments_lexer": "ipython2",
   "version": "2.7.6"
  }
 },
 "nbformat": 4,
 "nbformat_minor": 5
}
